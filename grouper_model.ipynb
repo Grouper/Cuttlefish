{
 "metadata": {
  "name": "grouper_model"
 },
 "nbformat": 3,
 "nbformat_minor": 0,
 "worksheets": [
  {
   "cells": [
    {
     "cell_type": "code",
     "collapsed": false,
     "input": [
      "import pandas as pd\n",
      "import numpy as np\n",
      "import sys\n",
      "import matplotlib\n",
      "import itertools\n",
      "from pylab import *\n",
      "from ggplot import *\n",
      "import operator\n",
      "from sklearn import linear_model, cross_validation, preprocessing, svm\n",
      "from sklearn.ensemble import RandomForestClassifier\n",
      "from sklearn.grid_search import GridSearchCV"
     ],
     "language": "python",
     "metadata": {},
     "outputs": [],
     "prompt_number": 7
    },
    {
     "cell_type": "code",
     "collapsed": false,
     "input": [
      "#read in the data\n",
      "data = pd.read_csv(\"training_data.cleaned.csv\", sep=',')\n",
      "#get rid of stars in column names just to make things simpler\n",
      "data.columns=map(lambda x: x.replace('*', ''), data.columns)"
     ],
     "language": "python",
     "metadata": {},
     "outputs": [],
     "prompt_number": 8
    },
    {
     "cell_type": "code",
     "collapsed": false,
     "input": [
      "#make string and integer versions of the boolean target variable\n",
      "data['became_friends_target_str']=map(lambda x: str(x), data['members_became_friends'])\n",
      "data['became_friends_target_int']=map(lambda x: int(x), data['members_became_friends'])"
     ],
     "language": "python",
     "metadata": {},
     "outputs": [],
     "prompt_number": 9
    },
    {
     "cell_type": "code",
     "collapsed": false,
     "input": [
      "#construct some log variables\n",
      "#log_variables = ['facebook_friends_count', 'facebook_photos_count']\n",
      "#for log_variable in log_variables:\n",
      "#    data['f_log10_'+log_variable] = map(lambda x: log10(x), data['f_'+log_variable])\n",
      "#    data['m_log10_'+log_variable] = map(lambda x: log10(x), data['m_'+log_variable])\n",
      "\n",
      "#construct some sign variables\n",
      "sign_variables = ['age', 'height', 'shoe_size', 'number_of_pets', 'weekly_workouts', 'number_of_siblings', 'facebook_friends_count', 'facebook_photos_count']#, 'log10_facebook_friends_count', 'log10_facebook_photos_count']    \n",
      "for sign_variable in sign_variables:\n",
      "    data[sign_variable+'_diff_sign'] = pd.Categorical.from_array(map(lambda x: int(x), (data['m_'+sign_variable]-data['f_'+sign_variable])>0))\n",
      "\n",
      "#construct some difference variables (NOT NEEDED, SINCE A LINEAR CLASSIFIER SHOULD BUILD THESE??)\n",
      "#diff_variables = ['age', 'height', 'shoe_size', 'number_of_pets', 'weekly_workouts', 'number_of_siblings', 'facebook_friends_count', 'facebook_photos_count']#, 'log10_facebook_friends_count', 'log10_facebook_photos_count']\n",
      "#for diff_variable in diff_variables:\n",
      "#    data[diff_variable+'_diff'] = data['m_'+diff_variable]-data['f_'+diff_variable]\n",
      "#    #data['abs_'+diff_variable+'_diff'] = np.abs(data[diff_variable+'_diff'])"
     ],
     "language": "python",
     "metadata": {},
     "outputs": [],
     "prompt_number": 10
    },
    {
     "cell_type": "code",
     "collapsed": true,
     "input": [
      "print data.head(1)"
     ],
     "language": "python",
     "metadata": {},
     "outputs": [
      {
       "output_type": "stream",
       "stream": "stdout",
       "text": [
        "  f_gender  f_age  f_height  f_shoe_size  f_number_of_pets  f_platinum_albums  \\\n",
        "0   female     23        65            6                 8                7.5   \n",
        "\n",
        "   f_weekly_workouts  f_number_of_siblings  f_pokemon_collected  \\\n",
        "0                  8                   7.5                  7.5   \n",
        "\n",
        "   f_facebook_friends_count  f_facebook_photos_count m_gender  m_age  \\\n",
        "0                      1392                      454     male     23   \n",
        "\n",
        "   m_height  m_shoe_size  m_number_of_pets  m_platinum_albums  \\\n",
        "0        69            5                 8                7.5   \n",
        "\n",
        "   m_weekly_workouts  m_number_of_siblings  m_pokemon_collected  \\\n",
        "0                  8                     7                    7   \n",
        "\n",
        "   m_facebook_friends_count  m_facebook_photos_count members_became_friends  \\\n",
        "0                       970                      498                  False   \n",
        "\n",
        "  became_friends_target_str  became_friends_target_int  age_diff_sign  \\\n",
        "0                     False                          0              0   \n",
        "\n",
        "   height_diff_sign  shoe_size_diff_sign  number_of_pets_diff_sign  \\\n",
        "0                 1                    0                         0   \n",
        "\n",
        "   weekly_workouts_diff_sign  number_of_siblings_diff_sign  \\\n",
        "0                          0                             0   \n",
        "\n",
        "   facebook_friends_count_diff_sign  facebook_photos_count_diff_sign  \n",
        "0                                 0                                1  \n"
       ]
      }
     ],
     "prompt_number": 11
    },
    {
     "cell_type": "code",
     "collapsed": true,
     "input": [
      "colours=['#0080FF', '#FF0000']\n",
      "plots={}\n",
      "for diff_variable in diff_variables:\n",
      "    print diff_variable\n",
      "    plots[diff_variable]=ggplot(aes(x=diff_variable+'_diff', colour='became_friends_target_str'), data=data)+geom_bar(aes(colour='became_friends_target_str'), alpha=0.5)+scale_colour_manual(values=colours)\n",
      "    ggsave(\"./plots/\"+diff_variable+\".png\", plots[diff_variable])"
     ],
     "language": "python",
     "metadata": {},
     "outputs": [
      {
       "output_type": "stream",
       "stream": "stdout",
       "text": [
        "age\n",
        "height"
       ]
      },
      {
       "output_type": "stream",
       "stream": "stderr",
       "text": [
        "Saving 11.0 x 8.0 in image.\n",
        "Saving 11.0 x 8.0 in image.\n"
       ]
      },
      {
       "output_type": "stream",
       "stream": "stdout",
       "text": [
        "\n",
        "shoe_size"
       ]
      },
      {
       "output_type": "stream",
       "stream": "stdout",
       "text": [
        "\n",
        "number_of_pets"
       ]
      },
      {
       "output_type": "stream",
       "stream": "stderr",
       "text": [
        "Saving 11.0 x 8.0 in image.\n",
        "Saving 11.0 x 8.0 in image.\n"
       ]
      },
      {
       "output_type": "stream",
       "stream": "stdout",
       "text": [
        "\n",
        "weekly_workouts"
       ]
      },
      {
       "output_type": "stream",
       "stream": "stdout",
       "text": [
        "\n",
        "number_of_siblings"
       ]
      },
      {
       "output_type": "stream",
       "stream": "stderr",
       "text": [
        "Saving 11.0 x 8.0 in image.\n",
        "Saving 11.0 x 8.0 in image.\n"
       ]
      },
      {
       "output_type": "stream",
       "stream": "stdout",
       "text": [
        "\n",
        "facebook_friends_count"
       ]
      },
      {
       "output_type": "stream",
       "stream": "stdout",
       "text": [
        "\n",
        "facebook_photos_count"
       ]
      },
      {
       "output_type": "stream",
       "stream": "stderr",
       "text": [
        "Saving 11.0 x 8.0 in image.\n",
        "Saving 11.0 x 8.0 in image.\n"
       ]
      },
      {
       "output_type": "stream",
       "stream": "stdout",
       "text": [
        "\n",
        "log10_facebook_friends_count"
       ]
      },
      {
       "output_type": "stream",
       "stream": "stdout",
       "text": [
        "\n",
        "log10_facebook_photos_count"
       ]
      },
      {
       "output_type": "stream",
       "stream": "stderr",
       "text": [
        "Saving 11.0 x 8.0 in image.\n",
        "Saving 11.0 x 8.0 in image.\n"
       ]
      },
      {
       "output_type": "stream",
       "stream": "stdout",
       "text": [
        "\n"
       ]
      }
     ],
     "prompt_number": 11
    },
    {
     "cell_type": "code",
     "collapsed": false,
     "input": [
      "#fitVars=['height_diff', 'weekly_workouts_diff']\n",
      "varsToFilter = ['f_gender', 'm_gender', 'members_became_friends', 'became_friends_target_str', 'became_friends_target_int']\n",
      "fitVars=filter(lambda x: x not in varsToFilter, data.columns)\n",
      "\n",
      "#construct all pairwise interaction terms\n",
      "#for combination in itertools.combinations(fitVars, 2):\n",
      "#    var=combination[0]+\":\"+combination[1]\n",
      "#    fitVars.append(var)\n",
      "#    data[var]=data[combination[0]]*data[combination[1]]\n",
      "\n",
      "X=np.array(data[fitVars])\n",
      "Y=np.array(data['became_friends_target_int'])\n",
      "\n",
      "#scale the continuous variables but not the categorical\n",
      "varsNotToScale=filter(lambda x: True if re.search(\"sign\", str(x))!=None else False, data.columns)\n",
      "X_1=np.array(data[filter(lambda x: x not in varsNotToScale, fitVars)])\n",
      "X_2=np.array(data[varsNotToScale])\n",
      "X_1_scaled=preprocessing.scale(X_1)\n",
      "X_scaled=np.column_stack((X_1_scaled, X_2))"
     ],
     "language": "python",
     "metadata": {},
     "outputs": [],
     "prompt_number": 12
    },
    {
     "cell_type": "code",
     "collapsed": false,
     "input": [
      "logit=linear_model.LogisticRegression(C=1e-1, penalty='l2')\n",
      "svc = svm.SVC() #linear, poly (degree and coef0), rbf (gamma), sigmoid (coef0)\n",
      "rf=RandomForestClassifier(n_estimators=750, compute_importances=True, criterion=\"gini\", max_features=None) #entropy or gini, None or auto\n",
      "\n",
      "logit_param_grid = [{'C': [0.0001, 0.0005, 0.001, 0.005, 0.01, 0.1, 1, 10, 100, 1000]}]\n",
      "#clf = GridSearchCV(logit, logit_param_grid, n_jobs=5)\n",
      "\n",
      "svm_param_grid = [\n",
      "{'C': [1, 10, 100, 1000], 'kernel': ['linear']},\n",
      "{'C': [1, 10, 100, 1000], 'degree': [2], 'coef0': [1], 'kernel': ['poly']},\n",
      "{'C': [1, 10, 100, 1000], 'gamma': [0.0001, 0.001, 0.01, 0.1, 1, 10, 100], 'kernel': ['rbf']},\n",
      "{'C': [1, 10, 100, 1000], 'coef0': [0.0001, 0.001, 0.01, 0.1, 1, 10, 100], 'kernel': ['sigmoid']}\n",
      "]\n",
      "#clf = GridSearchCV(svc, svm_param_grid, n_jobs=5)\n",
      "\n",
      "rf_param_grid = [{'n_estimators': range(500, 1500, 75)}]\n",
      "clf = GridSearchCV(rf, rf_param_grid, n_jobs=5, cv=10)\n",
      "\n",
      "#X_train, X_test, Y_train, Y_test = cross_validation.train_test_split(X_scaled, Y, test_size=0.1, random_state=0)\n",
      "#logit.fit(X_train, Y_train)\n",
      "#logit.score(X_test, Y_test)\n",
      "#print('Coefficients: \\n', logit.coef_)\n",
      "#probs=logit.predict_proba(X_test)\n",
      "#test=pd.DataFrame({'yhat': logit.predict(X_test), 'yhat_prob_one': logit.predict_proba(X_test)[:,1], 'y': Y_test})\n",
      "#print test.head(25)\n",
      "#print sum(abs(test['y']-test['yhat'])), len(test['y'])\n",
      "\n",
      "clf.fit(X_scaled, Y)\n",
      "\n",
      "#scores=cross_validation.cross_val_score(clf, X_scaled, Y, cv=10, n_jobs=5)\n",
      "#print scores\n",
      "#print scores.mean(), scores.std()"
     ],
     "language": "python",
     "metadata": {},
     "outputs": [
      {
       "output_type": "pyout",
       "prompt_number": 83,
       "text": [
        "GridSearchCV(cv=10,\n",
        "       estimator=RandomForestClassifier(bootstrap=True, compute_importances=True,\n",
        "            criterion='gini', max_depth=None, max_features=None,\n",
        "            min_density=0.1, min_samples_leaf=1, min_samples_split=2,\n",
        "            n_estimators=750, n_jobs=1, oob_score=False, random_state=None,\n",
        "            verbose=0),\n",
        "       fit_params={}, iid=True, loss_func=None, n_jobs=5,\n",
        "       param_grid=[{'n_estimators': [100, 175, 250, 325, 400, 475, 550, 625, 700, 775, 850, 925, 1000, 1075, 1150]}],\n",
        "       pre_dispatch='2*n_jobs', refit=True, score_func=None, verbose=0)"
       ]
      }
     ],
     "prompt_number": 83
    },
    {
     "cell_type": "code",
     "collapsed": false,
     "input": [
      "print clf.best_estimator_, clf.best_score_\n",
      "print clf.grid_scores_"
     ],
     "language": "python",
     "metadata": {},
     "outputs": [
      {
       "output_type": "stream",
       "stream": "stdout",
       "text": [
        "RandomForestClassifier(bootstrap=True, compute_importances=True,\n",
        "            criterion=gini, max_depth=None, max_features=None,\n",
        "            min_density=0.1, min_samples_leaf=1, min_samples_split=2,\n",
        "            n_estimators=1150, n_jobs=1, oob_score=False,\n",
        "            random_state=None, verbose=0) 0.574245599673\n",
        "[({'n_estimators': 100}, 0.56910437986082685, array([ 0.58      ,  0.57428571,  0.52857143,  0.55714286,  0.58571429,\n",
        "        0.59312321,  0.57593123,  0.57020057,  0.54441261,  0.58166189])), ({'n_estimators': 175}, 0.56136717151043802, array([ 0.58571429,  0.58      ,  0.53714286,  0.53428571,  0.59142857,\n",
        "        0.57879656,  0.56733524,  0.56160458,  0.5243553 ,  0.5530086 ])), ({'n_estimators': 250}, 0.56280474826033566, array([ 0.56571429,  0.58571429,  0.54      ,  0.54285714,  0.57714286,\n",
        "        0.5730659 ,  0.58166189,  0.55014327,  0.53581662,  0.57593123])), ({'n_estimators': 325}, 0.57309291854277522, array([ 0.58285714,  0.58857143,  0.56285714,  0.57142857,  0.6       ,\n",
        "        0.58166189,  0.57020057,  0.56733524,  0.55014327,  0.55587393])), ({'n_estimators': 400}, 0.5710994678673762, array([ 0.58      ,  0.57428571,  0.54857143,  0.57428571,  0.58571429,\n",
        "        0.5730659 ,  0.58739255,  0.56160458,  0.55014327,  0.57593123])), ({'n_estimators': 475}, 0.56739336880884161, array([ 0.56285714,  0.58      ,  0.53142857,  0.54285714,  0.58      ,\n",
        "        0.59312321,  0.58739255,  0.57593123,  0.53581662,  0.58452722])), ({'n_estimators': 550}, 0.56593941874744169, array([ 0.60857143,  0.57428571,  0.53428571,  0.56857143,  0.58571429,\n",
        "        0.57593123,  0.56446991,  0.57020057,  0.51289398,  0.56446991])), ({'n_estimators': 625}, 0.56766270978305355, array([ 0.58857143,  0.58571429,  0.53428571,  0.55714286,  0.59142857,\n",
        "        0.57879656,  0.57020057,  0.55873926,  0.55014327,  0.56160458])), ({'n_estimators': 700}, 0.57224232501023331, array([ 0.58      ,  0.59142857,  0.55428571,  0.54857143,  0.6       ,\n",
        "        0.58452722,  0.56733524,  0.57020057,  0.56733524,  0.55873926])), ({'n_estimators': 775}, 0.57080392959476056, array([ 0.59142857,  0.59142857,  0.53714286,  0.56285714,  0.61142857,\n",
        "        0.57593123,  0.57020057,  0.57020057,  0.53581662,  0.56160458])), ({'n_estimators': 850}, 0.57224314367580842, array([ 0.58571429,  0.58      ,  0.54285714,  0.54857143,  0.61428571,\n",
        "        0.5730659 ,  0.58166189,  0.57593123,  0.55014327,  0.57020057])), ({'n_estimators': 925}, 0.57081457224723697, array([ 0.60285714,  0.57714286,  0.53428571,  0.54285714,  0.6       ,\n",
        "        0.59025788,  0.57879656,  0.5730659 ,  0.53008596,  0.57879656])), ({'n_estimators': 1000}, 0.57195088006549322, array([ 0.59142857,  0.58285714,  0.54857143,  0.55714286,  0.61142857,\n",
        "        0.58166189,  0.57593123,  0.56733524,  0.54154728,  0.56160458])), ({'n_estimators': 1075}, 0.56996234138354485, array([ 0.58285714,  0.58857143,  0.54857143,  0.52571429,  0.58571429,\n",
        "        0.58166189,  0.5730659 ,  0.5730659 ,  0.56160458,  0.57879656])), ({'n_estimators': 1150}, 0.57424559967253375, array([ 0.6       ,  0.58      ,  0.54      ,  0.55714286,  0.60571429,\n",
        "        0.59025788,  0.57593123,  0.57593123,  0.54154728,  0.57593123]))]\n"
       ]
      }
     ],
     "prompt_number": 84
    },
    {
     "cell_type": "code",
     "collapsed": false,
     "input": [
      "traj = pd.DataFrame({'n_estimator': map(lambda x: x.get('n_estimators'), zip(*clf.grid_scores_)[0]), 'score': zip(*clf.grid_scores_)[1], 'err': map(lambda x: std(x), zip(*clf.grid_scores_)[2])})\n",
      "traj['min']=traj['score']-traj['err']\n",
      "traj['max']=traj['score']+traj['err']\n",
      "ggplot(aes(x=\"n_estimator\", y=\"score\"), data=traj)+geom_point()+geom_errorbar(aes(ymin=\"min\", ymax=\"max\"))\n",
      "#print traj"
     ],
     "language": "python",
     "metadata": {},
     "outputs": [
      {
       "output_type": "display_data",
       "png": "[encoded data removed]"
      },
      {
       "output_type": "pyout",
       "prompt_number": 85,
       "text": [
        "<ggplot: (284897649)>"
       ]
      }
     ],
     "prompt_number": 85
    },
    {
     "cell_type": "code",
     "collapsed": false,
     "input": [
      "imps=pd.DataFrame({'var': fitVars, 'imp': clf.feature_importances_})\n",
      "imps.sort(['imp'], ascending=False)"
     ],
     "language": "python",
     "metadata": {},
     "outputs": [
      {
       "html": [
        "<div style=\"max-height:1000px;max-width:1500px;overflow:auto;\">\n",
        "<table border=\"1\" class=\"dataframe\">\n",
        "  <thead>\n",
        "    <tr style=\"text-align: right;\">\n",
        "      <th></th>\n",
        "      <th>imp</th>\n",
        "      <th>var</th>\n",
        "    </tr>\n",
        "  </thead>\n",
        "  <tbody>\n",
        "    <tr>\n",
        "      <th>18</th>\n",
        "      <td> 0.107420</td>\n",
        "      <td>         m_facebook_friends_count</td>\n",
        "    </tr>\n",
        "    <tr>\n",
        "      <th>8 </th>\n",
        "      <td> 0.102385</td>\n",
        "      <td>         f_facebook_friends_count</td>\n",
        "    </tr>\n",
        "    <tr>\n",
        "      <th>19</th>\n",
        "      <td> 0.090697</td>\n",
        "      <td>          m_facebook_photos_count</td>\n",
        "    </tr>\n",
        "    <tr>\n",
        "      <th>9 </th>\n",
        "      <td> 0.081378</td>\n",
        "      <td>          f_facebook_photos_count</td>\n",
        "    </tr>\n",
        "    <tr>\n",
        "      <th>1 </th>\n",
        "      <td> 0.059206</td>\n",
        "      <td>                         f_height</td>\n",
        "    </tr>\n",
        "    <tr>\n",
        "      <th>11</th>\n",
        "      <td> 0.058178</td>\n",
        "      <td>                         m_height</td>\n",
        "    </tr>\n",
        "    <tr>\n",
        "      <th>10</th>\n",
        "      <td> 0.055392</td>\n",
        "      <td>                            m_age</td>\n",
        "    </tr>\n",
        "    <tr>\n",
        "      <th>0 </th>\n",
        "      <td> 0.048362</td>\n",
        "      <td>                            f_age</td>\n",
        "    </tr>\n",
        "    <tr>\n",
        "      <th>12</th>\n",
        "      <td> 0.043018</td>\n",
        "      <td>                      m_shoe_size</td>\n",
        "    </tr>\n",
        "    <tr>\n",
        "      <th>2 </th>\n",
        "      <td> 0.042269</td>\n",
        "      <td>                      f_shoe_size</td>\n",
        "    </tr>\n",
        "    <tr>\n",
        "      <th>16</th>\n",
        "      <td> 0.031774</td>\n",
        "      <td>             m_number_of_siblings</td>\n",
        "    </tr>\n",
        "    <tr>\n",
        "      <th>6 </th>\n",
        "      <td> 0.029842</td>\n",
        "      <td>             f_number_of_siblings</td>\n",
        "    </tr>\n",
        "    <tr>\n",
        "      <th>14</th>\n",
        "      <td> 0.022587</td>\n",
        "      <td>                m_platinum_albums</td>\n",
        "    </tr>\n",
        "    <tr>\n",
        "      <th>15</th>\n",
        "      <td> 0.021479</td>\n",
        "      <td>                m_weekly_workouts</td>\n",
        "    </tr>\n",
        "    <tr>\n",
        "      <th>3 </th>\n",
        "      <td> 0.021296</td>\n",
        "      <td>                 f_number_of_pets</td>\n",
        "    </tr>\n",
        "    <tr>\n",
        "      <th>13</th>\n",
        "      <td> 0.021042</td>\n",
        "      <td>                 m_number_of_pets</td>\n",
        "    </tr>\n",
        "    <tr>\n",
        "      <th>4 </th>\n",
        "      <td> 0.021028</td>\n",
        "      <td>                f_platinum_albums</td>\n",
        "    </tr>\n",
        "    <tr>\n",
        "      <th>5 </th>\n",
        "      <td> 0.019550</td>\n",
        "      <td>                f_weekly_workouts</td>\n",
        "    </tr>\n",
        "    <tr>\n",
        "      <th>7 </th>\n",
        "      <td> 0.019305</td>\n",
        "      <td>              f_pokemon_collected</td>\n",
        "    </tr>\n",
        "    <tr>\n",
        "      <th>17</th>\n",
        "      <td> 0.017777</td>\n",
        "      <td>              m_pokemon_collected</td>\n",
        "    </tr>\n",
        "    <tr>\n",
        "      <th>20</th>\n",
        "      <td> 0.013156</td>\n",
        "      <td>                    age_diff_sign</td>\n",
        "    </tr>\n",
        "    <tr>\n",
        "      <th>25</th>\n",
        "      <td> 0.013067</td>\n",
        "      <td>     number_of_siblings_diff_sign</td>\n",
        "    </tr>\n",
        "    <tr>\n",
        "      <th>22</th>\n",
        "      <td> 0.011355</td>\n",
        "      <td>              shoe_size_diff_sign</td>\n",
        "    </tr>\n",
        "    <tr>\n",
        "      <th>23</th>\n",
        "      <td> 0.010983</td>\n",
        "      <td>         number_of_pets_diff_sign</td>\n",
        "    </tr>\n",
        "    <tr>\n",
        "      <th>27</th>\n",
        "      <td> 0.010919</td>\n",
        "      <td>  facebook_photos_count_diff_sign</td>\n",
        "    </tr>\n",
        "    <tr>\n",
        "      <th>24</th>\n",
        "      <td> 0.010916</td>\n",
        "      <td>        weekly_workouts_diff_sign</td>\n",
        "    </tr>\n",
        "    <tr>\n",
        "      <th>26</th>\n",
        "      <td> 0.010166</td>\n",
        "      <td> facebook_friends_count_diff_sign</td>\n",
        "    </tr>\n",
        "    <tr>\n",
        "      <th>21</th>\n",
        "      <td> 0.005452</td>\n",
        "      <td>                 height_diff_sign</td>\n",
        "    </tr>\n",
        "  </tbody>\n",
        "</table>\n",
        "</div>"
       ],
       "output_type": "pyout",
       "prompt_number": 169,
       "text": [
        "         imp                               var\n",
        "18  0.107420          m_facebook_friends_count\n",
        "8   0.102385          f_facebook_friends_count\n",
        "19  0.090697           m_facebook_photos_count\n",
        "9   0.081378           f_facebook_photos_count\n",
        "1   0.059206                          f_height\n",
        "11  0.058178                          m_height\n",
        "10  0.055392                             m_age\n",
        "0   0.048362                             f_age\n",
        "12  0.043018                       m_shoe_size\n",
        "2   0.042269                       f_shoe_size\n",
        "16  0.031774              m_number_of_siblings\n",
        "6   0.029842              f_number_of_siblings\n",
        "14  0.022587                 m_platinum_albums\n",
        "15  0.021479                 m_weekly_workouts\n",
        "3   0.021296                  f_number_of_pets\n",
        "13  0.021042                  m_number_of_pets\n",
        "4   0.021028                 f_platinum_albums\n",
        "5   0.019550                 f_weekly_workouts\n",
        "7   0.019305               f_pokemon_collected\n",
        "17  0.017777               m_pokemon_collected\n",
        "20  0.013156                     age_diff_sign\n",
        "25  0.013067      number_of_siblings_diff_sign\n",
        "22  0.011355               shoe_size_diff_sign\n",
        "23  0.010983          number_of_pets_diff_sign\n",
        "27  0.010919   facebook_photos_count_diff_sign\n",
        "24  0.010916         weekly_workouts_diff_sign\n",
        "26  0.010166  facebook_friends_count_diff_sign\n",
        "21  0.005452                  height_diff_sign"
       ]
      }
     ],
     "prompt_number": 169
    },
    {
     "cell_type": "code",
     "collapsed": false,
     "input": [
      "map(lambda x: std(x), zip(*clf.grid_scores_)[2])"
     ],
     "language": "python",
     "metadata": {},
     "outputs": [
      {
       "output_type": "pyout",
       "prompt_number": 74,
       "text": [
        "[0.01126467507011706,\n",
        " 0.0035965107553581131,\n",
        " 0.0030549580120261379,\n",
        " 0.0035275616612126018,\n",
        " 0.0085262743495000612,\n",
        " 0.0065120496004240792,\n",
        " 0.0035275616612126018,\n",
        " 0.004505870028046797,\n",
        " 0.0035042771713636109]"
       ]
      }
     ],
     "prompt_number": 74
    },
    {
     "cell_type": "code",
     "collapsed": false,
     "input": [],
     "language": "python",
     "metadata": {},
     "outputs": []
    }
   ],
   "metadata": {}
  }
 ]
}