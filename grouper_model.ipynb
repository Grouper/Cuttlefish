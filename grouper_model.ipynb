{
 "metadata": {
  "name": "grouper_model"
 },
 "nbformat": 3,
 "nbformat_minor": 0,
 "worksheets": [
  {
   "cells": [
    {
     "cell_type": "code",
     "collapsed": false,
     "input": [
      "import pandas as pd\n",
      "import numpy as np\n",
      "import sys\n",
      "import matplotlib\n",
      "import itertools\n",
      "from pylab import *\n",
      "from ggplot import *\n",
      "import operator\n",
      "from sklearn import linear_model, cross_validation, preprocessing, svm\n",
      "from sklearn.ensemble import RandomForestClassifier\n",
      "from sklearn.grid_search import GridSearchCV\n",
      "from sklearn.metrics import roc_curve, auc"
     ],
     "language": "python",
     "metadata": {},
     "outputs": [],
     "prompt_number": 2
    },
    {
     "cell_type": "code",
     "collapsed": false,
     "input": [
      "#read in the datasets\n",
      "data = pd.read_csv(\"training_data.cleaned.csv\", sep=',')\n",
      "data_test = pd.read_csv(\"test_data.cleaned.csv\", sep=',')\n",
      "#get rid of stars in column names just to make things simpler in the code\n",
      "data.columns=map(lambda x: x.replace('*', ''), data.columns)\n",
      "data_test.columns=map(lambda x: x.replace('*', ''), data_test.columns)"
     ],
     "language": "python",
     "metadata": {},
     "outputs": [],
     "prompt_number": 3
    },
    {
     "cell_type": "code",
     "collapsed": false,
     "input": [
      "#make string and integer versions of the boolean target variable\n",
      "data['became_friends_target_str']=map(lambda x: str(x), data['members_became_friends'])\n",
      "data['became_friends_target_int']=map(lambda x: int(x), data['members_became_friends'])"
     ],
     "language": "python",
     "metadata": {},
     "outputs": [],
     "prompt_number": 4
    },
    {
     "cell_type": "code",
     "collapsed": false,
     "input": [
      "#construct some varialbes to hold the sign of the male/female difference in matching quantities\n",
      "sign_variables = ['age', 'height', 'shoe_size', 'number_of_pets', 'weekly_workouts', 'number_of_siblings', 'facebook_friends_count', 'facebook_photos_count']#, 'log10_facebook_friends_count', 'log10_facebook_photos_count']    \n",
      "for sign_variable in sign_variables:\n",
      "    data[sign_variable+'_diff_sign'] = pd.Categorical.from_array(map(lambda x: int(x), (data['m_'+sign_variable]-data['f_'+sign_variable])>0))\n",
      "    data_test[sign_variable+'_diff_sign'] = pd.Categorical.from_array(map(lambda x: int(x), (data_test['m_'+sign_variable]-data_test['f_'+sign_variable])>0))"
     ],
     "language": "python",
     "metadata": {},
     "outputs": [],
     "prompt_number": 5
    },
    {
     "cell_type": "code",
     "collapsed": true,
     "input": [
      "print data.head(1)\n",
      "print data_test.head(1)"
     ],
     "language": "python",
     "metadata": {},
     "outputs": [
      {
       "output_type": "stream",
       "stream": "stdout",
       "text": [
        "  f_gender  f_age  f_height  f_shoe_size  f_number_of_pets  f_platinum_albums  \\\n",
        "0   female     23        65            6                 8                7.5   \n",
        "\n",
        "   f_weekly_workouts  f_number_of_siblings  f_pokemon_collected  \\\n",
        "0                  8                   7.5                  7.5   \n",
        "\n",
        "   f_facebook_friends_count  f_facebook_photos_count m_gender  m_age  \\\n",
        "0                      1392                      454     male     23   \n",
        "\n",
        "   m_height  m_shoe_size  m_number_of_pets  m_platinum_albums  \\\n",
        "0        69            5                 8                7.5   \n",
        "\n",
        "   m_weekly_workouts  m_number_of_siblings  m_pokemon_collected  \\\n",
        "0                  8                     7                    7   \n",
        "\n",
        "   m_facebook_friends_count  m_facebook_photos_count members_became_friends  \\\n",
        "0                       970                      498                  False   \n",
        "\n",
        "  became_friends_target_str  became_friends_target_int  age_diff_sign  \\\n",
        "0                     False                          0              0   \n",
        "\n",
        "   height_diff_sign  shoe_size_diff_sign  number_of_pets_diff_sign  \\\n",
        "0                 1                    0                         0   \n",
        "\n",
        "   weekly_workouts_diff_sign  number_of_siblings_diff_sign  \\\n",
        "0                          0                             0   \n",
        "\n",
        "   facebook_friends_count_diff_sign  facebook_photos_count_diff_sign  \n",
        "0                                 0                                1  \n",
        "  f_gender  f_age  f_height  f_shoe_size  f_number_of_pets  f_platinum_albums  \\\n",
        "0   female     27        67            5               7.5                7.5   \n",
        "\n",
        "   f_weekly_workouts  f_number_of_siblings  f_pokemon_collected  \\\n",
        "0                  8                     7                  7.5   \n",
        "\n",
        "   f_facebook_friends_count  f_facebook_photos_count m_gender  m_age  \\\n",
        "0                       333                      457     male     25   \n",
        "\n",
        "   m_height  m_shoe_size  m_number_of_pets  m_platinum_albums  \\\n",
        "0        72          5.5                 8                7.5   \n",
        "\n",
        "   m_weekly_workouts  m_number_of_siblings  m_pokemon_collected  \\\n",
        "0                  8                   7.5                  7.5   \n",
        "\n",
        "   m_facebook_friends_count  m_facebook_photos_count  members_became_friends  \\\n",
        "0                       884                      601                     NaN   \n",
        "\n",
        "   age_diff_sign  height_diff_sign  shoe_size_diff_sign  \\\n",
        "0              0                 1                    1   \n",
        "\n",
        "   number_of_pets_diff_sign  weekly_workouts_diff_sign  \\\n",
        "0                         1                          0   \n",
        "\n",
        "   number_of_siblings_diff_sign  facebook_friends_count_diff_sign  \\\n",
        "0                             1                                 1   \n",
        "\n",
        "   facebook_photos_count_diff_sign  \n",
        "0                                1  \n"
       ]
      }
     ],
     "prompt_number": 7
    },
    {
     "cell_type": "code",
     "collapsed": true,
     "input": [
      "#make a bunch of diagnostic plots just to look at things\n",
      "colours=['#0080FF', '#FF0000']\n",
      "plots={}\n",
      "for diff_variable in diff_variables:\n",
      "    print diff_variable\n",
      "    plots[diff_variable]=ggplot(aes(x=diff_variable+'_diff', colour='became_friends_target_str'), data=data)+geom_bar(aes(colour='became_friends_target_str'), alpha=0.5)+scale_colour_manual(values=colours)\n",
      "    ggsave(\"./plots/\"+diff_variable+\".png\", plots[diff_variable])"
     ],
     "language": "python",
     "metadata": {},
     "outputs": [
      {
       "output_type": "stream",
       "stream": "stdout",
       "text": [
        "age\n",
        "height"
       ]
      },
      {
       "output_type": "stream",
       "stream": "stderr",
       "text": [
        "Saving 11.0 x 8.0 in image.\n",
        "Saving 11.0 x 8.0 in image.\n"
       ]
      },
      {
       "output_type": "stream",
       "stream": "stdout",
       "text": [
        "\n",
        "shoe_size"
       ]
      },
      {
       "output_type": "stream",
       "stream": "stdout",
       "text": [
        "\n",
        "number_of_pets"
       ]
      },
      {
       "output_type": "stream",
       "stream": "stderr",
       "text": [
        "Saving 11.0 x 8.0 in image.\n",
        "Saving 11.0 x 8.0 in image.\n"
       ]
      },
      {
       "output_type": "stream",
       "stream": "stdout",
       "text": [
        "\n",
        "weekly_workouts"
       ]
      },
      {
       "output_type": "stream",
       "stream": "stdout",
       "text": [
        "\n",
        "number_of_siblings"
       ]
      },
      {
       "output_type": "stream",
       "stream": "stderr",
       "text": [
        "Saving 11.0 x 8.0 in image.\n",
        "Saving 11.0 x 8.0 in image.\n"
       ]
      },
      {
       "output_type": "stream",
       "stream": "stdout",
       "text": [
        "\n",
        "facebook_friends_count"
       ]
      },
      {
       "output_type": "stream",
       "stream": "stdout",
       "text": [
        "\n",
        "facebook_photos_count"
       ]
      },
      {
       "output_type": "stream",
       "stream": "stderr",
       "text": [
        "Saving 11.0 x 8.0 in image.\n",
        "Saving 11.0 x 8.0 in image.\n"
       ]
      },
      {
       "output_type": "stream",
       "stream": "stdout",
       "text": [
        "\n",
        "log10_facebook_friends_count"
       ]
      },
      {
       "output_type": "stream",
       "stream": "stdout",
       "text": [
        "\n",
        "log10_facebook_photos_count"
       ]
      },
      {
       "output_type": "stream",
       "stream": "stderr",
       "text": [
        "Saving 11.0 x 8.0 in image.\n",
        "Saving 11.0 x 8.0 in image.\n"
       ]
      },
      {
       "output_type": "stream",
       "stream": "stdout",
       "text": [
        "\n"
       ]
      }
     ],
     "prompt_number": 11
    },
    {
     "cell_type": "code",
     "collapsed": false,
     "input": [
      "#filter out the target variables and some irrelevant varaibles from the ones that we're going to use to do the fit\n",
      "varsToFilter = ['f_gender', 'm_gender', 'members_became_friends', 'became_friends_target_str', 'became_friends_target_int']\n",
      "fitVars=filter(lambda x: x not in varsToFilter, data.columns)\n",
      "\n",
      "#construct the numpy matrices for the fits\n",
      "X=np.array(data[fitVars])\n",
      "X_test=np.array(data_test[fitVars])\n",
      "Y=np.array(data['became_friends_target_int'])\n",
      "\n",
      "#scale the continuous variables but not the categorical\n",
      "varsNotToScale=filter(lambda x: True if re.search(\"sign\", str(x))!=None else False, data.columns)\n",
      "X_1=np.array(data[filter(lambda x: x not in varsNotToScale, fitVars)])\n",
      "X_2=np.array(data[varsNotToScale])\n",
      "#create a scaler so that we can scale the test set with the same parameters\n",
      "scaler = preprocessing.StandardScaler().fit(X_1)\n",
      "X_1_scaled=scaler.transform(X_1) \n",
      "X_scaled=np.column_stack((X_1_scaled, X_2))\n",
      "\n",
      "#do the same for the test set\n",
      "X_test_1=np.array(data_test[filter(lambda x: x not in varsNotToScale, fitVars)])\n",
      "X_test_2=np.array(data_test[varsNotToScale])\n",
      "X_test_1_scaled=scaler.transform(X_test_1) \n",
      "X_test_scaled=np.column_stack((X_test_1_scaled, X_test_2))\n",
      "\n",
      "X_train, X_valid, Y_train, Y_valid = cross_validation.train_test_split(X_scaled, Y, test_size=0.1, random_state=0)"
     ],
     "language": "python",
     "metadata": {},
     "outputs": [],
     "prompt_number": 8
    },
    {
     "cell_type": "code",
     "collapsed": false,
     "input": [
      "#make some different classifiers\n",
      "logit=linear_model.LogisticRegression(C=1e-1, penalty='l2')\n",
      "svc = svm.SVC() #linear, poly (degree and coef0), rbf (gamma), sigmoid (coef0)\n",
      "rf=RandomForestClassifier(n_estimators=750, compute_importances=True, criterion=\"gini\", max_features=None) #entropy or gini, None or auto\n",
      "\n",
      "#and some parameter grids to search over\n",
      "logit_param_grid = [{'C': [0.0001, 0.0005, 0.001, 0.005, 0.01, 0.1, 1, 10, 100, 1000]}]\n",
      "svm_param_grid = [\n",
      "{'C': [1, 10, 100, 1000], 'kernel': ['linear']},\n",
      "{'C': [1, 10, 100, 1000], 'degree': [2], 'coef0': [1], 'kernel': ['poly']},\n",
      "{'C': [1, 10, 100, 1000], 'gamma': [0.0001, 0.001, 0.01, 0.1, 1, 10, 100], 'kernel': ['rbf']},\n",
      "{'C': [1, 10, 100, 1000], 'coef0': [0.0001, 0.001, 0.01, 0.1, 1, 10, 100], 'kernel': ['sigmoid']}\n",
      "]\n",
      "rf_param_grid = [{'n_estimators': range(50, 600, 50)}]\n",
      "\n",
      "#clf = GridSearchCV(logit, logit_param_grid, n_jobs=5)\n",
      "#clf = GridSearchCV(svc, svm_param_grid, n_jobs=5)\n",
      "clf = GridSearchCV(rf, rf_param_grid, n_jobs=5, cv=10)\n",
      "\n",
      "#do the fit\n",
      "clf.fit(X_train, Y_train)\n",
      "\n",
      "#random leftover exploratory code\n",
      "#logit.fit(X_train, Y_train)\n",
      "#logit.score(X_test, Y_test)\n",
      "#print('Coefficients: \\n', logit.coef_)\n",
      "#probs=logit.predict_proba(X_test)\n",
      "#test=pd.DataFrame({'yhat': logit.predict(X_test), 'yhat_prob_one': logit.predict_proba(X_test)[:,1], 'y': Y_test})\n",
      "#print test.head(25)\n",
      "#print sum(abs(test['y']-test['yhat'])), len(test['y'])\n",
      "#scores=cross_validation.cross_val_score(clf, X_scaled, Y, cv=10, n_jobs=5)\n",
      "#print scores\n",
      "#print scores.mean(), scores.std()"
     ],
     "language": "python",
     "metadata": {},
     "outputs": [
      {
       "output_type": "pyout",
       "prompt_number": 9,
       "text": [
        "GridSearchCV(cv=10,\n",
        "       estimator=RandomForestClassifier(bootstrap=True, compute_importances=True,\n",
        "            criterion='gini', max_depth=None, max_features=None,\n",
        "            min_density=0.1, min_samples_leaf=1, min_samples_split=2,\n",
        "            n_estimators=750, n_jobs=1, oob_score=False, random_state=None,\n",
        "            verbose=0),\n",
        "       fit_params={}, iid=True, loss_func=None, n_jobs=5,\n",
        "       param_grid=[{'n_estimators': [50, 100, 150, 200, 250, 300, 350, 400, 450, 500, 550]}],\n",
        "       pre_dispatch='2*n_jobs', refit=True, score_func=None, verbose=0)"
       ]
      }
     ],
     "prompt_number": 9
    },
    {
     "cell_type": "code",
     "collapsed": false,
     "input": [
      "print clf.best_estimator_, clf.best_score_\n",
      "print clf.grid_scores_"
     ],
     "language": "python",
     "metadata": {},
     "outputs": [
      {
       "output_type": "stream",
       "stream": "stdout",
       "text": [
        "RandomForestClassifier(bootstrap=True, compute_importances=True,\n",
        "            criterion=gini, max_depth=None, max_features=None,\n",
        "            min_density=0.1, min_samples_leaf=1, min_samples_split=2,\n",
        "            n_estimators=150, n_jobs=1, oob_score=False, random_state=None,\n",
        "            verbose=0) 0.572686280457\n",
        "[({'n_estimators': 50}, 0.56089879688605804, array([ 0.55555556,  0.5015873 ,  0.55873016,  0.57777778,  0.58412698,\n",
        "        0.55414013,  0.58917197,  0.58280255,  0.56687898,  0.53821656])), ({'n_estimators': 100}, 0.56438883833788289, array([ 0.56507937,  0.54920635,  0.55873016,  0.56507937,  0.58095238,\n",
        "        0.5477707 ,  0.54458599,  0.59235669,  0.57324841,  0.56687898])), ({'n_estimators': 150}, 0.572686280456981, array([ 0.55873016,  0.51746032,  0.59047619,  0.55555556,  0.54285714,\n",
        "        0.55095541,  0.61783439,  0.61146497,  0.56369427,  0.61783439])), ({'n_estimators': 200}, 0.56728035587908199, array([ 0.55238095,  0.48888889,  0.56190476,  0.57460317,  0.56190476,\n",
        "        0.57961783,  0.57006369,  0.59235669,  0.59235669,  0.59872611])), ({'n_estimators': 250}, 0.56250328581538767, array([ 0.55873016,  0.49206349,  0.56825397,  0.54920635,  0.57142857,\n",
        "        0.55732484,  0.56687898,  0.57961783,  0.57643312,  0.60509554])), ({'n_estimators': 300}, 0.56186937620058641, array([ 0.54285714,  0.49206349,  0.59047619,  0.55555556,  0.54920635,\n",
        "        0.5477707 ,  0.55732484,  0.60509554,  0.58598726,  0.59235669])), ({'n_estimators': 350}, 0.56282883429380248, array([ 0.54285714,  0.4952381 ,  0.54603175,  0.55873016,  0.57460317,\n",
        "        0.55732484,  0.57961783,  0.58598726,  0.57324841,  0.61464968])), ({'n_estimators': 400}, 0.5653675058133657, array([ 0.56190476,  0.4984127 ,  0.56190476,  0.55555556,  0.56825397,\n",
        "        0.57324841,  0.55414013,  0.58917197,  0.59235669,  0.59872611])), ({'n_estimators': 450}, 0.5675927610959457, array([ 0.55555556,  0.50793651,  0.56507937,  0.55238095,  0.57777778,\n",
        "        0.57006369,  0.57643312,  0.58598726,  0.58917197,  0.5955414 ])), ({'n_estimators': 500}, 0.56599939338792826, array([ 0.56507937,  0.5047619 ,  0.57142857,  0.54920635,  0.57142857,\n",
        "        0.52866242,  0.58280255,  0.58280255,  0.60509554,  0.59872611])), ({'n_estimators': 550}, 0.5647255080376099, array([ 0.56825397,  0.48888889,  0.53968254,  0.56190476,  0.6031746 ,\n",
        "        0.5477707 ,  0.56050955,  0.57961783,  0.58280255,  0.61464968]))]\n"
       ]
      }
     ],
     "prompt_number": 10
    },
    {
     "cell_type": "code",
     "collapsed": false,
     "input": [
      "#make a plot of the random forest cross-validation error as a function of the grid parameter\n",
      "traj = pd.DataFrame({'n_estimator': map(lambda x: x.get('n_estimators'), zip(*clf.grid_scores_)[0]), 'score': zip(*clf.grid_scores_)[1], 'err': map(lambda x: std(x), zip(*clf.grid_scores_)[2])})\n",
      "traj['min']=traj['score']-traj['err']\n",
      "traj['max']=traj['score']+traj['err']\n",
      "ggplot(aes(x=\"n_estimator\", y=\"score\"), data=traj)+geom_point()+geom_errorbar(aes(ymin=\"min\", ymax=\"max\"))"
     ],
     "language": "python",
     "metadata": {},
     "outputs": [
      {
       "output_type": "display_data",
       "png": "[encoded data removed]"
      },
      {
       "output_type": "pyout",
       "prompt_number": 11,
       "text": [
        "<ggplot: (280698425)>"
       ]
      }
     ],
     "prompt_number": 11
    },
    {
     "cell_type": "code",
     "collapsed": false,
     "input": [
      "#see which variables are most important\n",
      "imps=pd.DataFrame({'var': fitVars, 'imp': clf.best_estimator_.feature_importances_})\n",
      "imps.sort(['imp'], ascending=False)"
     ],
     "language": "python",
     "metadata": {},
     "outputs": [
      {
       "html": [
        "<div style=\"max-height:1000px;max-width:1500px;overflow:auto;\">\n",
        "<table border=\"1\" class=\"dataframe\">\n",
        "  <thead>\n",
        "    <tr style=\"text-align: right;\">\n",
        "      <th></th>\n",
        "      <th>imp</th>\n",
        "      <th>var</th>\n",
        "    </tr>\n",
        "  </thead>\n",
        "  <tbody>\n",
        "    <tr>\n",
        "      <th>8 </th>\n",
        "      <td> 0.123543</td>\n",
        "      <td>         f_facebook_friends_count</td>\n",
        "    </tr>\n",
        "    <tr>\n",
        "      <th>18</th>\n",
        "      <td> 0.110307</td>\n",
        "      <td>         m_facebook_friends_count</td>\n",
        "    </tr>\n",
        "    <tr>\n",
        "      <th>9 </th>\n",
        "      <td> 0.091427</td>\n",
        "      <td>          f_facebook_photos_count</td>\n",
        "    </tr>\n",
        "    <tr>\n",
        "      <th>0 </th>\n",
        "      <td> 0.088869</td>\n",
        "      <td>                            f_age</td>\n",
        "    </tr>\n",
        "    <tr>\n",
        "      <th>1 </th>\n",
        "      <td> 0.087186</td>\n",
        "      <td>                         f_height</td>\n",
        "    </tr>\n",
        "    <tr>\n",
        "      <th>19</th>\n",
        "      <td> 0.080451</td>\n",
        "      <td>          m_facebook_photos_count</td>\n",
        "    </tr>\n",
        "    <tr>\n",
        "      <th>2 </th>\n",
        "      <td> 0.054082</td>\n",
        "      <td>                      f_shoe_size</td>\n",
        "    </tr>\n",
        "    <tr>\n",
        "      <th>11</th>\n",
        "      <td> 0.051834</td>\n",
        "      <td>                         m_height</td>\n",
        "    </tr>\n",
        "    <tr>\n",
        "      <th>10</th>\n",
        "      <td> 0.051794</td>\n",
        "      <td>                            m_age</td>\n",
        "    </tr>\n",
        "    <tr>\n",
        "      <th>12</th>\n",
        "      <td> 0.035258</td>\n",
        "      <td>                      m_shoe_size</td>\n",
        "    </tr>\n",
        "    <tr>\n",
        "      <th>6 </th>\n",
        "      <td> 0.027797</td>\n",
        "      <td>             f_number_of_siblings</td>\n",
        "    </tr>\n",
        "    <tr>\n",
        "      <th>16</th>\n",
        "      <td> 0.022221</td>\n",
        "      <td>             m_number_of_siblings</td>\n",
        "    </tr>\n",
        "    <tr>\n",
        "      <th>3 </th>\n",
        "      <td> 0.022122</td>\n",
        "      <td>                 f_number_of_pets</td>\n",
        "    </tr>\n",
        "    <tr>\n",
        "      <th>4 </th>\n",
        "      <td> 0.021436</td>\n",
        "      <td>                f_platinum_albums</td>\n",
        "    </tr>\n",
        "    <tr>\n",
        "      <th>14</th>\n",
        "      <td> 0.017632</td>\n",
        "      <td>                m_platinum_albums</td>\n",
        "    </tr>\n",
        "    <tr>\n",
        "      <th>13</th>\n",
        "      <td> 0.017210</td>\n",
        "      <td>                 m_number_of_pets</td>\n",
        "    </tr>\n",
        "    <tr>\n",
        "      <th>5 </th>\n",
        "      <td> 0.016918</td>\n",
        "      <td>                f_weekly_workouts</td>\n",
        "    </tr>\n",
        "    <tr>\n",
        "      <th>7 </th>\n",
        "      <td> 0.016787</td>\n",
        "      <td>              f_pokemon_collected</td>\n",
        "    </tr>\n",
        "    <tr>\n",
        "      <th>15</th>\n",
        "      <td> 0.013603</td>\n",
        "      <td>                m_weekly_workouts</td>\n",
        "    </tr>\n",
        "    <tr>\n",
        "      <th>17</th>\n",
        "      <td> 0.012686</td>\n",
        "      <td>              m_pokemon_collected</td>\n",
        "    </tr>\n",
        "    <tr>\n",
        "      <th>20</th>\n",
        "      <td> 0.006131</td>\n",
        "      <td>                    age_diff_sign</td>\n",
        "    </tr>\n",
        "    <tr>\n",
        "      <th>24</th>\n",
        "      <td> 0.006105</td>\n",
        "      <td>        weekly_workouts_diff_sign</td>\n",
        "    </tr>\n",
        "    <tr>\n",
        "      <th>25</th>\n",
        "      <td> 0.006045</td>\n",
        "      <td>     number_of_siblings_diff_sign</td>\n",
        "    </tr>\n",
        "    <tr>\n",
        "      <th>23</th>\n",
        "      <td> 0.005486</td>\n",
        "      <td>         number_of_pets_diff_sign</td>\n",
        "    </tr>\n",
        "    <tr>\n",
        "      <th>22</th>\n",
        "      <td> 0.004775</td>\n",
        "      <td>              shoe_size_diff_sign</td>\n",
        "    </tr>\n",
        "    <tr>\n",
        "      <th>27</th>\n",
        "      <td> 0.003818</td>\n",
        "      <td>  facebook_photos_count_diff_sign</td>\n",
        "    </tr>\n",
        "    <tr>\n",
        "      <th>26</th>\n",
        "      <td> 0.002244</td>\n",
        "      <td> facebook_friends_count_diff_sign</td>\n",
        "    </tr>\n",
        "    <tr>\n",
        "      <th>21</th>\n",
        "      <td> 0.002235</td>\n",
        "      <td>                 height_diff_sign</td>\n",
        "    </tr>\n",
        "  </tbody>\n",
        "</table>\n",
        "</div>"
       ],
       "output_type": "pyout",
       "prompt_number": 12,
       "text": [
        "         imp                               var\n",
        "8   0.123543          f_facebook_friends_count\n",
        "18  0.110307          m_facebook_friends_count\n",
        "9   0.091427           f_facebook_photos_count\n",
        "0   0.088869                             f_age\n",
        "1   0.087186                          f_height\n",
        "19  0.080451           m_facebook_photos_count\n",
        "2   0.054082                       f_shoe_size\n",
        "11  0.051834                          m_height\n",
        "10  0.051794                             m_age\n",
        "12  0.035258                       m_shoe_size\n",
        "6   0.027797              f_number_of_siblings\n",
        "16  0.022221              m_number_of_siblings\n",
        "3   0.022122                  f_number_of_pets\n",
        "4   0.021436                 f_platinum_albums\n",
        "14  0.017632                 m_platinum_albums\n",
        "13  0.017210                  m_number_of_pets\n",
        "5   0.016918                 f_weekly_workouts\n",
        "7   0.016787               f_pokemon_collected\n",
        "15  0.013603                 m_weekly_workouts\n",
        "17  0.012686               m_pokemon_collected\n",
        "20  0.006131                     age_diff_sign\n",
        "24  0.006105         weekly_workouts_diff_sign\n",
        "25  0.006045      number_of_siblings_diff_sign\n",
        "23  0.005486          number_of_pets_diff_sign\n",
        "22  0.004775               shoe_size_diff_sign\n",
        "27  0.003818   facebook_photos_count_diff_sign\n",
        "26  0.002244  facebook_friends_count_diff_sign\n",
        "21  0.002235                  height_diff_sign"
       ]
      }
     ],
     "prompt_number": 12
    },
    {
     "cell_type": "code",
     "collapsed": false,
     "input": [
      "#some exploratory ROC curve stuff on the validation set\n",
      "probas_=clf.best_estimator_.predict_proba(X_valid)\n",
      "fpr, tpr, thresholds = roc_curve(Y_valid, probas_[:, 1])\n",
      "roc_auc = auc(fpr, tpr)\n",
      "print(\"Area under the ROC curve : %f\" % roc_auc)\n",
      "ggplot(aes(x=\"threshold\", y=\"tpr\"), data=pd.DataFrame({\"tpr\":tpr, \"fpr\":fpr, \"threshold\":thresholds}))+geom_point()\n",
      "#ggplot(aes(x=\"threshold\", y=\"fpr\"), data=pd.DataFrame({\"tpr\":tpr, \"fpr\":fpr, \"threshold\":thresholds}))+geom_point()\n",
      "#ggplot(aes(x=\"fpr\", y=\"tpr\"), data=pd.DataFrame({\"tpr\":tpr, \"fpr\":fpr, \"threshold\":thresholds}))+geom_point()\n",
      "#ggplot(aes(x=\"threshold\", y=\"diff\"), data=pd.DataFrame({\"tpr\":tpr, \"fpr\":fpr, \"threshold\":thresholds, \"diff\":(tpr-fpr)}))+geom_point()+geom_line()"
     ],
     "language": "python",
     "metadata": {},
     "outputs": [
      {
       "output_type": "stream",
       "stream": "stdout",
       "text": [
        "Area under the ROC curve : 0.560808\n"
       ]
      },
      {
       "output_type": "display_data",
       "png": "[encoded data removed]"
      },
      {
       "output_type": "pyout",
       "prompt_number": 113,
       "text": [
        "<ggplot: (282231965)>"
       ]
      }
     ],
     "prompt_number": 113
    },
    {
     "cell_type": "code",
     "collapsed": false,
     "input": [
      "#train the best model using all of the data\n",
      "rf=RandomForestClassifier(n_estimators=150, compute_importances=True, criterion=\"gini\", max_features=None)\n",
      "rf.fit(X_scaled, Y)\n",
      "\n",
      "#predict on the test set\n",
      "test_preds=rf.predict(X_test_scaled)"
     ],
     "language": "python",
     "metadata": {},
     "outputs": [],
     "prompt_number": 23
    },
    {
     "cell_type": "code",
     "collapsed": false,
     "input": [
      "#write out the predictions\n",
      "data_test_original = pd.read_csv(\"test_data.cleaned.csv\", sep=',')\n",
      "data_test_original['members_became_friends']=map(lambda x: bool(x), test_preds)\n",
      "data_test_original.to_csv(\"test_data_withpreds.csv\")"
     ],
     "language": "python",
     "metadata": {},
     "outputs": [],
     "prompt_number": 29
    },
    {
     "cell_type": "code",
     "collapsed": false,
     "input": [],
     "language": "python",
     "metadata": {},
     "outputs": []
    }
   ],
   "metadata": {}
  }
 ]
}